{
 "cells": [
  {
   "cell_type": "code",
   "execution_count": 5,
   "id": "127324fb-a240-4744-8fac-24ed0d541c6b",
   "metadata": {},
   "outputs": [],
   "source": [
    "import requests"
   ]
  },
  {
   "cell_type": "code",
   "execution_count": 6,
   "id": "f435398c-679e-4b82-9b0f-83106b7f7785",
   "metadata": {},
   "outputs": [],
   "source": [
    "import pandas as pd\n",
    "import time"
   ]
  },
  {
   "cell_type": "code",
   "execution_count": null,
   "id": "d8fbc7b8-fa9b-47c3-a5f3-0c0ca1b20b4f",
   "metadata": {},
   "outputs": [],
   "source": []
  },
  {
   "cell_type": "code",
   "execution_count": 7,
   "id": "ac62cd14-77db-4e61-ab71-51178a879176",
   "metadata": {},
   "outputs": [],
   "source": [
    "def get_crypto_data():\n",
    "    url = \"https://api.coingecko.com/api/v3/coins/markets\"\n",
    "    params = {\n",
    "        \"vs_currency\": \"usd\",\n",
    "        \"order\": \"market_cap_desc\",\n",
    "        \"per_page\": 50,  \n",
    "        \"page\": 1,\n",
    "        \"sparkline\": False,\n",
    "        \"price_change_percentage\": \"24h\"\n",
    "    }\n",
    "    \n",
    "    response = requests.get(url, params=params)\n",
    "    \n",
    "    if response.status_code == 200:\n",
    "        crypto_list = response.json()\n",
    "        result = []\n",
    "        \n",
    "        for coin in crypto_list:\n",
    "            result.append({\n",
    "                \"crypto_name\": coin[\"name\"],\n",
    "                \"symbol\": coin[\"symbol\"].upper(),\n",
    "                \"price_usd\": coin[\"current_price\"],\n",
    "                \"market_cap\": coin[\"market_cap\"],\n",
    "                \"volume_24h\": coin[\"total_volume\"],\n",
    "                \"price_change_24h\": coin[\"price_change_percentage_24h\"]\n",
    "            })\n",
    "        \n",
    "        return result\n",
    "    else:\n",
    "        print(\"Failed to get data. Error code:\", response.status_code)\n",
    "        return None\n"
   ]
  },
  {
   "cell_type": "markdown",
   "id": "cb503584-d47c-4576-b655-0dda6715957b",
   "metadata": {},
   "source": [
    "# Get data and print it"
   ]
  },
  {
   "cell_type": "code",
   "execution_count": 8,
   "id": "6d08890c-721c-417d-a535-a24d6e1c6c3e",
   "metadata": {},
   "outputs": [
    {
     "name": "stdout",
     "output_type": "stream",
     "text": [
      "1. Bitcoin (BTC) - $95576.00 | Market Cap: $1,895,779,045,484 | 24h Vol: $40,164,751,525 | 24h Change: -1.33%\n",
      "2. Ethereum (ETH) - $2626.10 | Market Cap: $317,416,426,617 | 24h Vol: $22,362,710,161 | 24h Change: -1.29%\n",
      "3. Tether (USDT) - $1.00 | Market Cap: $141,930,675,792 | 24h Vol: $74,794,860,063 | 24h Change: 0.01%\n",
      "4. XRP (XRP) - $2.43 | Market Cap: $140,368,697,054 | 24h Vol: $3,375,095,593 | 24h Change: -0.39%\n",
      "5. BNB (BNB) - $668.82 | Market Cap: $97,573,540,331 | 24h Vol: $5,503,731,668 | 24h Change: 0.08%\n",
      "6. Solana (SOL) - $191.43 | Market Cap: $93,610,977,923 | 24h Vol: $3,633,294,974 | 24h Change: -1.40%\n",
      "7. USDC (USDC) - $1.00 | Market Cap: $56,139,462,022 | 24h Vol: $8,727,086,473 | 24h Change: 0.00%\n",
      "8. Dogecoin (DOGE) - $0.26 | Market Cap: $37,877,314,075 | 24h Vol: $1,542,282,327 | 24h Change: -1.44%\n",
      "9. Cardano (ADA) - $0.78 | Market Cap: $28,135,140,931 | 24h Vol: $740,327,353 | 24h Change: 0.26%\n",
      "10. Lido Staked Ether (STETH) - $2624.38 | Market Cap: $24,744,573,866 | 24h Vol: $90,122,482 | 24h Change: -1.32%\n",
      "11. TRON (TRX) - $0.23 | Market Cap: $20,240,374,759 | 24h Vol: $708,251,641 | 24h Change: -3.57%\n",
      "12. Wrapped Bitcoin (WBTC) - $95614.00 | Market Cap: $12,359,281,589 | 24h Vol: $818,502,415 | 24h Change: -1.18%\n",
      "13. Chainlink (LINK) - $18.30 | Market Cap: $11,699,054,081 | 24h Vol: $528,260,513 | 24h Change: -1.62%\n",
      "14. Sui (SUI) - $3.46 | Market Cap: $10,728,366,099 | 24h Vol: $1,543,706,659 | 24h Change: 3.07%\n",
      "15. Wrapped stETH (WSTETH) - $3139.99 | Market Cap: $10,485,263,798 | 24h Vol: $41,078,671 | 24h Change: -1.22%\n",
      "16. Avalanche (AVAX) - $25.18 | Market Cap: $10,405,701,521 | 24h Vol: $352,644,146 | 24h Change: -1.38%\n",
      "17. Stellar (XLM) - $0.32 | Market Cap: $9,956,738,055 | 24h Vol: $231,011,117 | 24h Change: 0.51%\n",
      "18. Shiba Inu (SHIB) - $0.00 | Market Cap: $9,490,546,870 | 24h Vol: $319,654,683 | 24h Change: -2.69%\n",
      "19. Litecoin (LTC) - $124.04 | Market Cap: $9,373,269,533 | 24h Vol: $1,359,529,104 | 24h Change: 3.28%\n",
      "20. Toncoin (TON) - $3.70 | Market Cap: $9,232,253,688 | 24h Vol: $198,501,910 | 24h Change: -1.08%\n",
      "21. LEO Token (LEO) - $9.77 | Market Cap: $9,028,286,130 | 24h Vol: $476,930 | 24h Change: -0.54%\n",
      "22. USDS (USDS) - $1.00 | Market Cap: $8,644,549,536 | 24h Vol: $14,889,983 | 24h Change: -0.12%\n",
      "23. Hedera (HBAR) - $0.22 | Market Cap: $8,401,189,676 | 24h Vol: $272,826,363 | 24h Change: -2.88%\n",
      "24. Hyperliquid (HYPE) - $24.89 | Market Cap: $8,293,473,763 | 24h Vol: $164,691,719 | 24h Change: 1.58%\n",
      "25. WETH (WETH) - $2623.96 | Market Cap: $7,939,745,797 | 24h Vol: $734,697,860 | 24h Change: -1.46%\n",
      "26. Polkadot (DOT) - $5.11 | Market Cap: $7,793,434,394 | 24h Vol: $290,534,349 | 24h Change: -0.92%\n",
      "27. Bitcoin Cash (BCH) - $329.27 | Market Cap: $6,547,056,175 | 24h Vol: $179,312,058 | 24h Change: -1.68%\n",
      "28. Bitget Token (BGB) - $5.41 | Market Cap: $6,499,572,262 | 24h Vol: $430,849,328 | 24h Change: -10.20%\n",
      "29. Ethena USDe (USDE) - $1.00 | Market Cap: $5,999,318,604 | 24h Vol: $67,987,965 | 24h Change: 0.02%\n",
      "30. Uniswap (UNI) - $9.55 | Market Cap: $5,749,183,801 | 24h Vol: $245,780,545 | 24h Change: -0.48%\n",
      "31. MANTRA (OM) - $5.65 | Market Cap: $5,471,157,514 | 24h Vol: $304,089,438 | 24h Change: -1.37%\n",
      "32. Wrapped eETH (WEETH) - $2786.17 | Market Cap: $5,344,951,391 | 24h Vol: $15,336,968 | 24h Change: -1.37%\n",
      "33. Ondo (ONDO) - $1.32 | Market Cap: $4,172,547,809 | 24h Vol: $298,886,921 | 24h Change: -4.10%\n",
      "34. Monero (XMR) - $226.30 | Market Cap: $4,166,817,304 | 24h Vol: $57,674,584 | 24h Change: -0.08%\n",
      "35. Pepe (PEPE) - $0.00 | Market Cap: $4,028,777,561 | 24h Vol: $760,019,612 | 24h Change: -1.09%\n",
      "36. NEAR Protocol (NEAR) - $3.31 | Market Cap: $3,933,313,980 | 24h Vol: $214,059,591 | 24h Change: -0.31%\n",
      "37. WhiteBIT Coin (WBT) - $27.09 | Market Cap: $3,910,060,495 | 24h Vol: $31,053,761 | 24h Change: -1.38%\n",
      "38. Aave (AAVE) - $249.27 | Market Cap: $3,769,746,786 | 24h Vol: $374,251,056 | 24h Change: 1.43%\n",
      "39. Aptos (APT) - $6.03 | Market Cap: $3,548,438,560 | 24h Vol: $271,120,540 | 24h Change: 0.17%\n",
      "40. Dai (DAI) - $1.00 | Market Cap: $3,476,967,936 | 24h Vol: $214,982,704 | 24h Change: 0.01%\n",
      "41. Mantle (MNT) - $1.03 | Market Cap: $3,451,454,682 | 24h Vol: $118,336,154 | 24h Change: -0.63%\n",
      "42. Internet Computer (ICP) - $7.02 | Market Cap: $3,384,732,660 | 24h Vol: $128,822,365 | 24h Change: -2.68%\n",
      "43. Official Trump (TRUMP) - $16.24 | Market Cap: $3,261,168,377 | 24h Vol: $2,207,542,661 | 24h Change: 6.75%\n",
      "44. sUSDS (SUSDS) - $1.03 | Market Cap: $3,248,674,041 | 24h Vol: $932,480 | 24h Change: -0.59%\n",
      "45. Ethereum Classic (ETC) - $20.99 | Market Cap: $3,171,620,459 | 24h Vol: $126,799,890 | 24h Change: 0.54%\n",
      "46. Bittensor (TAO) - $376.00 | Market Cap: $3,096,185,603 | 24h Vol: $185,574,702 | 24h Change: -6.35%\n",
      "47. OKB (OKB) - $50.85 | Market Cap: $3,050,756,640 | 24h Vol: $9,811,396 | 24h Change: -0.44%\n",
      "48. Gate (GT) - $22.69 | Market Cap: $2,851,636,238 | 24h Vol: $23,181,974 | 24h Change: 1.94%\n",
      "49. VeChain (VET) - $0.03 | Market Cap: $2,749,940,707 | 24h Vol: $55,849,440 | 24h Change: -1.11%\n",
      "50. POL (ex-MATIC) (POL) - $0.31 | Market Cap: $2,690,648,717 | 24h Vol: $98,447,233 | 24h Change: -0.86%\n"
     ]
    }
   ],
   "source": [
    "crypto_info = get_crypto_data()\n",
    "\n",
    "if crypto_info:\n",
    "    for i, item in enumerate(crypto_info, start=1):\n",
    "        print(f\"{i}. {item['crypto_name']} ({item['symbol']}) - ${item['price_usd']:.2f} | Market Cap: ${item['market_cap']:,} | 24h Vol: ${item['volume_24h']:,} | 24h Change: {item['price_change_24h']:.2f}%\")\n"
   ]
  },
  {
   "cell_type": "code",
   "execution_count": null,
   "id": "7c7fac26-7b0b-494c-bb92-6a9e9ea8546f",
   "metadata": {},
   "outputs": [],
   "source": []
  },
  {
   "cell_type": "code",
   "execution_count": 15,
   "id": "59f80a05-4d3c-4222-b4da-33f12a7acd43",
   "metadata": {},
   "outputs": [
    {
     "name": "stdout",
     "output_type": "stream",
     "text": [
      "Requirement already satisfied: requests in /Library/Frameworks/Python.framework/Versions/3.12/lib/python3.12/site-packages (2.31.0)\n",
      "Requirement already satisfied: pandas in /Library/Frameworks/Python.framework/Versions/3.12/lib/python3.12/site-packages (2.2.2)\n",
      "Collecting openpyxl\n",
      "  Downloading openpyxl-3.1.5-py2.py3-none-any.whl.metadata (2.5 kB)\n",
      "Requirement already satisfied: charset-normalizer<4,>=2 in /Library/Frameworks/Python.framework/Versions/3.12/lib/python3.12/site-packages (from requests) (3.3.2)\n",
      "Requirement already satisfied: idna<4,>=2.5 in /Library/Frameworks/Python.framework/Versions/3.12/lib/python3.12/site-packages (from requests) (3.7)\n",
      "Requirement already satisfied: urllib3<3,>=1.21.1 in /Library/Frameworks/Python.framework/Versions/3.12/lib/python3.12/site-packages (from requests) (2.2.1)\n",
      "Requirement already satisfied: certifi>=2017.4.17 in /Library/Frameworks/Python.framework/Versions/3.12/lib/python3.12/site-packages (from requests) (2024.2.2)\n",
      "Requirement already satisfied: numpy>=1.26.0 in /Library/Frameworks/Python.framework/Versions/3.12/lib/python3.12/site-packages (from pandas) (1.26.4)\n",
      "Requirement already satisfied: python-dateutil>=2.8.2 in /Library/Frameworks/Python.framework/Versions/3.12/lib/python3.12/site-packages (from pandas) (2.9.0.post0)\n",
      "Requirement already satisfied: pytz>=2020.1 in /Library/Frameworks/Python.framework/Versions/3.12/lib/python3.12/site-packages (from pandas) (2024.1)\n",
      "Requirement already satisfied: tzdata>=2022.7 in /Library/Frameworks/Python.framework/Versions/3.12/lib/python3.12/site-packages (from pandas) (2024.1)\n",
      "Collecting et-xmlfile (from openpyxl)\n",
      "  Downloading et_xmlfile-2.0.0-py3-none-any.whl.metadata (2.7 kB)\n",
      "Requirement already satisfied: six>=1.5 in /Library/Frameworks/Python.framework/Versions/3.12/lib/python3.12/site-packages (from python-dateutil>=2.8.2->pandas) (1.16.0)\n",
      "Downloading openpyxl-3.1.5-py2.py3-none-any.whl (250 kB)\n",
      "Downloading et_xmlfile-2.0.0-py3-none-any.whl (18 kB)\n",
      "Installing collected packages: et-xmlfile, openpyxl\n",
      "Successfully installed et-xmlfile-2.0.0 openpyxl-3.1.5\n",
      "\n",
      "\u001b[1m[\u001b[0m\u001b[34;49mnotice\u001b[0m\u001b[1;39;49m]\u001b[0m\u001b[39;49m A new release of pip is available: \u001b[0m\u001b[31;49m24.3.1\u001b[0m\u001b[39;49m -> \u001b[0m\u001b[32;49m25.0.1\u001b[0m\n",
      "\u001b[1m[\u001b[0m\u001b[34;49mnotice\u001b[0m\u001b[1;39;49m]\u001b[0m\u001b[39;49m To update, run: \u001b[0m\u001b[32;49mpip install --upgrade pip\u001b[0m\n",
      "Note: you may need to restart the kernel to use updated packages.\n"
     ]
    }
   ],
   "source": [
    "pip install requests pandas openpyxl\n"
   ]
  },
  {
   "cell_type": "markdown",
   "id": "46a1efa5-972e-478a-92dd-cf834762a305",
   "metadata": {},
   "source": [
    "# Function to fetch live crypto data\n"
   ]
  },
  {
   "cell_type": "code",
   "execution_count": 9,
   "id": "2e06b1ee-f866-443b-b9eb-7ac8e3e9cb70",
   "metadata": {},
   "outputs": [],
   "source": [
    "def fetch_data():\n",
    "    url = \"https://api.coingecko.com/api/v3/coins/markets\"\n",
    "    params = {\n",
    "        \"vs_currency\": \"usd\",\n",
    "        \"order\": \"market_cap_desc\",\n",
    "        \"per_page\": 50,\n",
    "        \"page\": 1,\n",
    "        \"sparkline\": False,\n",
    "        \"price_change_percentage\": \"24h\"\n",
    "    }\n",
    "    \n",
    "    response = requests.get(url, params=params)\n",
    "    \n",
    "    if response.status_code == 200:\n",
    "        return response.json()\n",
    "    else:\n",
    "        print(\"Error fetching data:\", response.status_code)\n",
    "        return None"
   ]
  },
  {
   "cell_type": "markdown",
   "id": "f52fdf98-1257-4430-981a-3caf8e06250b",
   "metadata": {},
   "source": [
    "# Function to analyze the data\n"
   ]
  },
  {
   "cell_type": "code",
   "execution_count": 10,
   "id": "ecd9c66b-8f3c-45e0-b40b-c8e4c355bf12",
   "metadata": {},
   "outputs": [],
   "source": [
    "def analyze_data(crypto_list):\n",
    "    # Top 5 cryptos by market cap\n",
    "    top_5 = crypto_list[:5]\n",
    "\n",
    "    # Average price of top 50 cryptos\n",
    "    total_price = sum(coin[\"current_price\"] for coin in crypto_list)\n",
    "    avg_price = total_price / len(crypto_list)\n",
    "\n",
    "    # Find highest and lowest 24h change\n",
    "    highest_24h = max(crypto_list, key=lambda x: x[\"price_change_percentage_24h\"])\n",
    "    lowest_24h = min(crypto_list, key=lambda x: x[\"price_change_percentage_24h\"])\n",
    "\n",
    "    # Print results\n",
    "    print(\"\\n🔹 Top 5 Cryptos by Market Cap:\")\n",
    "    for coin in top_5:\n",
    "        print(f\"   {coin['name']} ({coin['symbol'].upper()}) - Market Cap: ${coin['market_cap']:,}\")\n",
    "\n",
    "    print(f\"\\n🔹 Average Price of Top 50 Cryptos: ${avg_price:.2f}\")\n",
    "\n",
    "    print(f\"\\n🔹 Biggest 24h Gainer: {highest_24h['name']} ({highest_24h['symbol'].upper()}) - {highest_24h['price_change_percentage_24h']:.2f}%\")\n",
    "    \n",
    "    print(f\"🔹 Biggest 24h Loser: {lowest_24h['name']} ({lowest_24h['symbol'].upper()}) - {lowest_24h['price_change_percentage_24h']:.2f}%\")\n"
   ]
  },
  {
   "cell_type": "markdown",
   "id": "915f1140-1b7a-4430-b283-0002cfccde2d",
   "metadata": {},
   "source": [
    "# Run the script\n"
   ]
  },
  {
   "cell_type": "code",
   "execution_count": 11,
   "id": "8c8da4b7-7070-4095-849f-1a902e4ce388",
   "metadata": {},
   "outputs": [
    {
     "name": "stdout",
     "output_type": "stream",
     "text": [
      "\n",
      "🔹 Top 5 Cryptos by Market Cap:\n",
      "   Bitcoin (BTC) - Market Cap: $1,895,779,045,484\n",
      "   Ethereum (ETH) - Market Cap: $317,416,426,617\n",
      "   Tether (USDT) - Market Cap: $141,930,675,792\n",
      "   XRP (XRP) - Market Cap: $140,368,697,054\n",
      "   BNB (BNB) - Market Cap: $97,573,540,331\n",
      "\n",
      "🔹 Average Price of Top 50 Cryptos: $4148.68\n",
      "\n",
      "🔹 Biggest 24h Gainer: Official Trump (TRUMP) - 6.75%\n",
      "🔹 Biggest 24h Loser: Bitget Token (BGB) - -10.20%\n"
     ]
    }
   ],
   "source": [
    "crypto_data = fetch_data()\n",
    "if crypto_data:\n",
    "    analyze_data(crypto_data)\n"
   ]
  },
  {
   "cell_type": "markdown",
   "id": "94df51eb-9236-44c5-b4aa-3cfa4d963cee",
   "metadata": {},
   "source": [
    "# Function to fetch live crypto data"
   ]
  },
  {
   "cell_type": "code",
   "execution_count": 12,
   "id": "dcd3ec8f-c8dc-4adb-916b-ed3df94dec89",
   "metadata": {},
   "outputs": [],
   "source": [
    "\n",
    "def get_crypto_data():\n",
    "    url = \"https://api.coingecko.com/api/v3/coins/markets\"\n",
    "    params = {\n",
    "        \"vs_currency\": \"usd\",\n",
    "        \"order\": \"market_cap_desc\",\n",
    "        \"per_page\": 50,\n",
    "        \"page\": 1,\n",
    "        \"sparkline\": False,\n",
    "        \"price_change_percentage\": \"24h\"\n",
    "    }\n",
    "\n",
    "    response = requests.get(url, params=params)\n",
    "    \n",
    "    if response.status_code == 200:\n",
    "        return response.json()\n",
    "    else:\n",
    "        print(\"Error fetching data:\", response.status_code)\n",
    "        return None\n"
   ]
  },
  {
   "cell_type": "code",
   "execution_count": null,
   "id": "bf27126b-18a9-4c7c-b590-fb4516008970",
   "metadata": {},
   "outputs": [
    {
     "name": "stdout",
     "output_type": "stream",
     "text": [
      "✅ Excel sheet updated with new data!\n",
      "Waiting for next update...\n",
      "\n"
     ]
    }
   ],
   "source": [
    "\n",
    "# Function to update Excel without overwriting old data\n",
    "def update_excel():\n",
    "    data = get_crypto_data()\n",
    "    if not data:\n",
    "        return\n",
    "\n",
    "    # Convert data to a pandas DataFrame\n",
    "    df = pd.DataFrame([\n",
    "        {\n",
    "            \"Timestamp\": pd.Timestamp.now(),\n",
    "            \"Name\": coin[\"name\"],\n",
    "            \"Symbol\": coin[\"symbol\"].upper(),\n",
    "            \"Price (USD)\": coin[\"current_price\"],\n",
    "            \"Market Cap\": coin[\"market_cap\"],\n",
    "            \"24h Volume\": coin[\"total_volume\"],\n",
    "            \"24h Change (%)\": coin[\"price_change_percentage_24h\"]\n",
    "        }\n",
    "        for coin in data\n",
    "    ])\n",
    "\n",
    "    # Append to the existing file or create a new one\n",
    "    file_name = \"Crypto_Live_History.xlsx\"\n",
    "    try:\n",
    "        existing_data = pd.read_excel(file_name)\n",
    "        updated_data = pd.concat([existing_data, df], ignore_index=True)\n",
    "    except FileNotFoundError:\n",
    "        updated_data = df\n",
    "\n",
    "    # Save to Excel\n",
    "    updated_data.to_excel(file_name, index=False)\n",
    "    print(\"✅ Excel sheet updated with new data!\")\n",
    "while True:\n",
    "    update_excel()\n",
    "    print(\"Waiting for next update...\\n\")\n",
    "    time.sleep(300)  # 5 minutes\n"
   ]
  },
  {
   "cell_type": "markdown",
   "id": "ad314812-1e9e-4dcd-8159-129b3319ae74",
   "metadata": {},
   "source": [
    "# Run the script continuously (updates every 5 minutes)"
   ]
  },
  {
   "cell_type": "code",
   "execution_count": null,
   "id": "1d85d6fb-ff43-4ef4-82b5-ae1e4ab4100c",
   "metadata": {},
   "outputs": [],
   "source": []
  }
 ],
 "metadata": {
  "kernelspec": {
   "display_name": "Python 3 (ipykernel)",
   "language": "python",
   "name": "python3"
  },
  "language_info": {
   "codemirror_mode": {
    "name": "ipython",
    "version": 3
   },
   "file_extension": ".py",
   "mimetype": "text/x-python",
   "name": "python",
   "nbconvert_exporter": "python",
   "pygments_lexer": "ipython3",
   "version": "3.12.3"
  }
 },
 "nbformat": 4,
 "nbformat_minor": 5
}
